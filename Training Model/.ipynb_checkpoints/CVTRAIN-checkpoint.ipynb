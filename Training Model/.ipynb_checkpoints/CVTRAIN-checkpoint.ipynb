{
 "cells": [
  {
   "cell_type": "code",
   "execution_count": null,
   "metadata": {},
   "outputs": [
    {
     "name": "stderr",
     "output_type": "stream",
     "text": [
      "Using TensorFlow backend.\n"
     ]
    }
   ],
   "source": [
    "import numpy as np\n",
    "import pickle\n",
    "import cv2\n",
    "from os import listdir\n",
    "from sklearn.preprocessing import LabelBinarizer\n",
    "from keras.models import Sequential\n",
    "from keras.layers.normalization import BatchNormalization\n",
    "from keras.layers.convolutional import Conv2D\n",
    "from keras.layers.convolutional import MaxPooling2D\n",
    "from keras.layers.core import Activation, Flatten, Dropout, Dense\n",
    "from keras import backend as K\n",
    "from keras.preprocessing.image import ImageDataGenerator\n",
    "from keras.optimizers import Adam\n",
    "from keras.preprocessing import image\n",
    "from keras.preprocessing.image import img_to_array\n",
    "from sklearn.preprocessing import MultiLabelBinarizer\n",
    "from sklearn.model_selection import train_test_split\n",
    "import matplotlib.pyplot as plt"
   ]
  },
  {
   "cell_type": "code",
   "execution_count": 2,
   "metadata": {},
   "outputs": [],
   "source": [
    "EPOCHS = 25\n",
    "BS = 32\n",
    "default_image_size = tuple((256, 256))\n",
    "image_size = 0\n",
    "directory_root = '...' #use dataTomato or data Potato to load and train\n",
    "#if you are using dataTomato then use one part ant a time and load model after training of one part and load next part of data\n",
    "#like 1st train on Tomato after Tomato1.1 etc\n",
    "width=256\n",
    "height=256\n",
    "depth=3"
   ]
  },
  {
   "cell_type": "code",
   "execution_count": 3,
   "metadata": {},
   "outputs": [],
   "source": [
    "def convert_image_to_array(image_dir):\n",
    "    try:\n",
    "        image = cv2.imread(image_dir)\n",
    "        if image is not None :\n",
    "            image = cv2.resize(image, default_image_size)   \n",
    "            return img_to_array(image)\n",
    "        else :\n",
    "            return np.array([])\n",
    "    except Exception as e:\n",
    "        print(f\"Error : {e}\")\n",
    "        return None"
   ]
  },
  {
   "cell_type": "code",
   "execution_count": 4,
   "metadata": {},
   "outputs": [
    {
     "name": "stdout",
     "output_type": "stream",
     "text": [
      "[INFO] Loading images ...\n",
      "[INFO] Processing Tomato_Bacterial_spot ...\n",
      "[INFO] Processing Tomato_Early_blight ...\n",
      "[INFO] Processing Tomato_healthy ...\n",
      "[INFO] Processing Tomato_Late_blight ...\n",
      "[INFO] Processing Tomato_Leaf_Mold ...\n",
      "[INFO] Processing Tomato_Septoria_leaf_spot ...\n",
      "[INFO] Processing Tomato_Spider_mites_Two_spotted_spider_mite ...\n",
      "[INFO] Processing Tomato__Target_Spot ...\n",
      "[INFO] Processing Tomato__Tomato_YellowLeaf__Curl_Virus ...\n",
      "[INFO] Image loading completed\n"
     ]
    }
   ],
   "source": [
    "image_list, label_list = [], []\n",
    "try:\n",
    "    print(\"[INFO] Loading images ...\")\n",
    "    root_dir = listdir(directory_root)\n",
    "    for directory in root_dir :\n",
    "        # remove .DS_Store from list\n",
    "        if directory == \".DS_Store\" :\n",
    "            root_dir.remove(directory)\n",
    "\n",
    "    for plant_folder in root_dir :\n",
    "        plant_disease_folder_list = listdir(f\"{directory_root}/{plant_folder}\")\n",
    "        \n",
    "        for disease_folder in plant_disease_folder_list :\n",
    "            # remove .DS_Store from list\n",
    "            if disease_folder == \".DS_Store\" :\n",
    "                plant_disease_folder_list.remove(disease_folder)\n",
    "\n",
    "        for plant_disease_folder in plant_disease_folder_list:\n",
    "            print(f\"[INFO] Processing {plant_disease_folder} ...\")\n",
    "            plant_disease_image_list = listdir(f\"{directory_root}/{plant_folder}/{plant_disease_folder}/\")\n",
    "                \n",
    "            for single_plant_disease_image in plant_disease_image_list :\n",
    "                if single_plant_disease_image == \".DS_Store\" :\n",
    "                    plant_disease_image_list.remove(single_plant_disease_image)\n",
    "\n",
    "            for image in plant_disease_image_list[:1200]:\n",
    "                image_directory = f\"{directory_root}/{plant_folder}/{plant_disease_folder}/{image}\"\n",
    "                if image_directory.endswith(\".jpg\") == True or image_directory.endswith(\".JPG\") == True:\n",
    "                    image_list.append(convert_image_to_array(image_directory))\n",
    "                    label_list.append(plant_disease_folder)\n",
    "    print(\"[INFO] Image loading completed\")  \n",
    "except Exception as e:\n",
    "    print(f\"Error : {e}\")"
   ]
  },
  {
   "cell_type": "code",
   "execution_count": null,
   "metadata": {},
   "outputs": [],
   "source": [
    "label_binarizer = LabelBinarizer()\n",
    "image_labels = label_binarizer.fit_transform(label_list)\n",
    "pickle.dump(label_binarizer,open('label_transform.pkl', 'wb'))\n",
    "n_classes = len(label_binarizer.classes_)"
   ]
  },
  {
   "cell_type": "code",
   "execution_count": 6,
   "metadata": {},
   "outputs": [
    {
     "name": "stdout",
     "output_type": "stream",
     "text": [
      "['Tomato_Bacterial_spot' 'Tomato_Early_blight' 'Tomato_Late_blight'\n",
      " 'Tomato_Leaf_Mold' 'Tomato_Septoria_leaf_spot'\n",
      " 'Tomato_Spider_mites_Two_spotted_spider_mite' 'Tomato__Target_Spot'\n",
      " 'Tomato__Tomato_YellowLeaf__Curl_Virus' 'Tomato_healthy']\n"
     ]
    }
   ],
   "source": [
    "print(label_binarizer.classes_)"
   ]
  },
  {
   "cell_type": "code",
   "execution_count": 7,
   "metadata": {},
   "outputs": [],
   "source": [
    "import pandas as pd\n",
    "from sklearn import datasets, linear_model\n",
    "from sklearn.model_selection import train_test_split\n",
    "from matplotlib import pyplot as plt"
   ]
  },
  {
   "cell_type": "code",
   "execution_count": 8,
   "metadata": {},
   "outputs": [],
   "source": [
    "from sklearn.model_selection import KFold"
   ]
  },
  {
   "cell_type": "code",
   "execution_count": 9,
   "metadata": {},
   "outputs": [],
   "source": [
    "np_image_list = np.array(image_list, dtype=np.float16) / 225.0"
   ]
  },
  {
   "cell_type": "code",
   "execution_count": 10,
   "metadata": {},
   "outputs": [
    {
     "name": "stdout",
     "output_type": "stream",
     "text": [
      "KFold(n_splits=10, random_state=None, shuffle=False)\n"
     ]
    }
   ],
   "source": [
    "kf = KFold(n_splits=10) \n",
    "kf.get_n_splits(np_image_list)\n",
    "print(kf)"
   ]
  },
  {
   "cell_type": "code",
   "execution_count": 11,
   "metadata": {},
   "outputs": [],
   "source": [
    "aug = ImageDataGenerator(\n",
    "    rotation_range=25, width_shift_range=0.1,\n",
    "    height_shift_range=0.1, shear_range=0.2, \n",
    "    zoom_range=0.2, fill_mode=\"nearest\")"
   ]
  },
  {
   "cell_type": "code",
   "execution_count": 12,
   "metadata": {},
   "outputs": [],
   "source": [
    "activationMethod = \"sigmoid\""
   ]
  },
  {
   "cell_type": "code",
   "execution_count": 13,
   "metadata": {},
   "outputs": [
    {
     "name": "stdout",
     "output_type": "stream",
     "text": [
      "WARNING:tensorflow:From c:\\users\\outsideramaan\\appdata\\local\\programs\\python\\python36\\lib\\site-packages\\tensorflow\\python\\framework\\op_def_library.py:263: colocate_with (from tensorflow.python.framework.ops) is deprecated and will be removed in a future version.\n",
      "Instructions for updating:\n",
      "Colocations handled automatically by placer.\n",
      "WARNING:tensorflow:From c:\\users\\outsideramaan\\appdata\\local\\programs\\python\\python36\\lib\\site-packages\\keras\\backend\\tensorflow_backend.py:3445: calling dropout (from tensorflow.python.ops.nn_ops) with keep_prob is deprecated and will be removed in a future version.\n",
      "Instructions for updating:\n",
      "Please use `rate` instead of `keep_prob`. Rate should be set to `rate = 1 - keep_prob`.\n"
     ]
    }
   ],
   "source": [
    "model = Sequential()\n",
    "inputShape = (height, width, depth)\n",
    "chanDim = -1\n",
    "\n",
    "if K.image_data_format() == \"channels_first\":\n",
    "    inputShape = (depth, height, width)\n",
    "    chanDim = 1\n",
    "\n",
    "model.add(Conv2D(32, (3, 3), padding=\"same\",input_shape=inputShape))\n",
    "model.add(Activation(activationMethod))\n",
    "model.add(BatchNormalization(axis=chanDim))\n",
    "model.add(MaxPooling2D(pool_size=(3, 3)))\n",
    "model.add(Dropout(0.25))\n",
    "model.add(Conv2D(64, (3, 3), padding=\"same\"))\n",
    "model.add(Activation(activationMethod))\n",
    "model.add(BatchNormalization(axis=chanDim))\n",
    "model.add(Conv2D(64, (3, 3), padding=\"same\"))\n",
    "model.add(Activation(activationMethod))\n",
    "model.add(BatchNormalization(axis=chanDim))\n",
    "model.add(MaxPooling2D(pool_size=(2, 2)))\n",
    "model.add(Dropout(0.25))\n",
    "model.add(Conv2D(128, (3, 3), padding=\"same\"))\n",
    "model.add(Activation(activationMethod))\n",
    "model.add(BatchNormalization(axis=chanDim))\n",
    "model.add(Conv2D(128, (3, 3), padding=\"same\"))\n",
    "model.add(Activation(activationMethod))\n",
    "model.add(BatchNormalization(axis=chanDim))\n",
    "model.add(MaxPooling2D(pool_size=(2, 2)))\n",
    "model.add(Dropout(0.25))\n",
    "model.add(Flatten())\n",
    "model.add(Dense(1024))\n",
    "model.add(Activation(activationMethod))\n",
    "model.add(BatchNormalization())\n",
    "model.add(Dropout(0.5))\n",
    "model.add(Dense(n_classes))\n",
    "model.add(Activation(\"softmax\"))"
   ]
  },
  {
   "cell_type": "code",
   "execution_count": 14,
   "metadata": {},
   "outputs": [
    {
     "name": "stdout",
     "output_type": "stream",
     "text": [
      "_________________________________________________________________\n",
      "Layer (type)                 Output Shape              Param #   \n",
      "=================================================================\n",
      "conv2d_1 (Conv2D)            (None, 256, 256, 32)      896       \n",
      "_________________________________________________________________\n",
      "activation_1 (Activation)    (None, 256, 256, 32)      0         \n",
      "_________________________________________________________________\n",
      "batch_normalization_1 (Batch (None, 256, 256, 32)      128       \n",
      "_________________________________________________________________\n",
      "max_pooling2d_1 (MaxPooling2 (None, 85, 85, 32)        0         \n",
      "_________________________________________________________________\n",
      "dropout_1 (Dropout)          (None, 85, 85, 32)        0         \n",
      "_________________________________________________________________\n",
      "conv2d_2 (Conv2D)            (None, 85, 85, 64)        18496     \n",
      "_________________________________________________________________\n",
      "activation_2 (Activation)    (None, 85, 85, 64)        0         \n",
      "_________________________________________________________________\n",
      "batch_normalization_2 (Batch (None, 85, 85, 64)        256       \n",
      "_________________________________________________________________\n",
      "conv2d_3 (Conv2D)            (None, 85, 85, 64)        36928     \n",
      "_________________________________________________________________\n",
      "activation_3 (Activation)    (None, 85, 85, 64)        0         \n",
      "_________________________________________________________________\n",
      "batch_normalization_3 (Batch (None, 85, 85, 64)        256       \n",
      "_________________________________________________________________\n",
      "max_pooling2d_2 (MaxPooling2 (None, 42, 42, 64)        0         \n",
      "_________________________________________________________________\n",
      "dropout_2 (Dropout)          (None, 42, 42, 64)        0         \n",
      "_________________________________________________________________\n",
      "conv2d_4 (Conv2D)            (None, 42, 42, 128)       73856     \n",
      "_________________________________________________________________\n",
      "activation_4 (Activation)    (None, 42, 42, 128)       0         \n",
      "_________________________________________________________________\n",
      "batch_normalization_4 (Batch (None, 42, 42, 128)       512       \n",
      "_________________________________________________________________\n",
      "conv2d_5 (Conv2D)            (None, 42, 42, 128)       147584    \n",
      "_________________________________________________________________\n",
      "activation_5 (Activation)    (None, 42, 42, 128)       0         \n",
      "_________________________________________________________________\n",
      "batch_normalization_5 (Batch (None, 42, 42, 128)       512       \n",
      "_________________________________________________________________\n",
      "max_pooling2d_3 (MaxPooling2 (None, 21, 21, 128)       0         \n",
      "_________________________________________________________________\n",
      "dropout_3 (Dropout)          (None, 21, 21, 128)       0         \n",
      "_________________________________________________________________\n",
      "flatten_1 (Flatten)          (None, 56448)             0         \n",
      "_________________________________________________________________\n",
      "dense_1 (Dense)              (None, 1024)              57803776  \n",
      "_________________________________________________________________\n",
      "activation_6 (Activation)    (None, 1024)              0         \n",
      "_________________________________________________________________\n",
      "batch_normalization_6 (Batch (None, 1024)              4096      \n",
      "_________________________________________________________________\n",
      "dropout_4 (Dropout)          (None, 1024)              0         \n",
      "_________________________________________________________________\n",
      "dense_2 (Dense)              (None, 9)                 9225      \n",
      "_________________________________________________________________\n",
      "activation_7 (Activation)    (None, 9)                 0         \n",
      "=================================================================\n",
      "Total params: 58,096,521\n",
      "Trainable params: 58,093,641\n",
      "Non-trainable params: 2,880\n",
      "_________________________________________________________________\n"
     ]
    }
   ],
   "source": [
    "model.summary()"
   ]
  },
  {
   "cell_type": "code",
   "execution_count": 15,
   "metadata": {},
   "outputs": [],
   "source": [
    "model.compile(loss=\"binary_crossentropy\", optimizer=\"adam\",metrics=[\"accuracy\"])"
   ]
  },
  {
   "cell_type": "code",
   "execution_count": null,
   "metadata": {},
   "outputs": [
    {
     "name": "stdout",
     "output_type": "stream",
     "text": [
      "\n",
      "Fold  0\n",
      "WARNING:tensorflow:From c:\\users\\outsideramaan\\appdata\\local\\programs\\python\\python36\\lib\\site-packages\\tensorflow\\python\\ops\\math_ops.py:3066: to_int32 (from tensorflow.python.ops.math_ops) is deprecated and will be removed in a future version.\n",
      "Instructions for updating:\n",
      "Use tf.cast instead.\n",
      "Epoch 1/25\n",
      "109/109 [==============================] - 64s 587ms/step - loss: 0.2757 - acc: 0.9014 - val_loss: 2.5527 - val_acc: 0.7812\n",
      "Epoch 2/25\n",
      "109/109 [==============================] - 61s 562ms/step - loss: 0.2769 - acc: 0.8982 - val_loss: 1.4343 - val_acc: 0.7877\n",
      "Epoch 3/25\n",
      "109/109 [==============================] - 62s 573ms/step - loss: 0.3014 - acc: 0.8922 - val_loss: 1.0513 - val_acc: 0.8022\n",
      "Epoch 4/25\n",
      "109/109 [==============================] - 62s 569ms/step - loss: 0.2576 - acc: 0.9036 - val_loss: 0.4489 - val_acc: 0.8204\n",
      "Epoch 5/25\n",
      "109/109 [==============================] - 62s 568ms/step - loss: 0.2382 - acc: 0.9104 - val_loss: 0.2520 - val_acc: 0.8863\n",
      "Epoch 6/25\n",
      "109/109 [==============================] - 62s 569ms/step - loss: 0.2239 - acc: 0.9151 - val_loss: 0.4094 - val_acc: 0.8548\n",
      "Epoch 7/25\n",
      "109/109 [==============================] - 64s 583ms/step - loss: 0.2080 - acc: 0.9197 - val_loss: 0.8248 - val_acc: 0.7948\n",
      "Epoch 8/25\n",
      "109/109 [==============================] - 63s 581ms/step - loss: 0.1996 - acc: 0.9244 - val_loss: 0.4226 - val_acc: 0.8693\n",
      "Epoch 9/25\n",
      "109/109 [==============================] - 62s 572ms/step - loss: 0.1997 - acc: 0.9238 - val_loss: 0.6208 - val_acc: 0.8244\n",
      "Epoch 10/25\n",
      "109/109 [==============================] - 62s 573ms/step - loss: 0.2013 - acc: 0.9222 - val_loss: 0.4372 - val_acc: 0.8522\n",
      "Epoch 11/25\n",
      "109/109 [==============================] - 62s 573ms/step - loss: 0.2019 - acc: 0.9220 - val_loss: 0.7462 - val_acc: 0.7991\n",
      "Epoch 12/25\n",
      "109/109 [==============================] - 62s 572ms/step - loss: 0.1820 - acc: 0.9283 - val_loss: 0.3868 - val_acc: 0.8596\n",
      "Epoch 13/25\n",
      "109/109 [==============================] - 63s 579ms/step - loss: 0.1823 - acc: 0.9288 - val_loss: 0.5655 - val_acc: 0.8272\n",
      "Epoch 14/25\n",
      "109/109 [==============================] - 62s 572ms/step - loss: 0.1836 - acc: 0.9273 - val_loss: 0.8514 - val_acc: 0.7843\n",
      "Epoch 15/25\n",
      "109/109 [==============================] - 63s 578ms/step - loss: 0.1866 - acc: 0.9268 - val_loss: 0.4754 - val_acc: 0.8400\n",
      "Epoch 16/25\n",
      "109/109 [==============================] - 63s 580ms/step - loss: 0.1933 - acc: 0.9236 - val_loss: 0.9707 - val_acc: 0.8207\n",
      "Epoch 17/25\n",
      "109/109 [==============================] - 63s 578ms/step - loss: 0.1855 - acc: 0.9260 - val_loss: 0.4211 - val_acc: 0.8477\n",
      "Epoch 18/25\n",
      "109/109 [==============================] - 61s 557ms/step - loss: 0.1865 - acc: 0.9272 - val_loss: 0.3919 - val_acc: 0.8463\n",
      "Epoch 19/25\n",
      "109/109 [==============================] - 60s 552ms/step - loss: 0.1895 - acc: 0.9269 - val_loss: 0.9610 - val_acc: 0.7962\n",
      "Epoch 20/25\n",
      "109/109 [==============================] - 60s 551ms/step - loss: 0.1792 - acc: 0.9300 - val_loss: 0.3940 - val_acc: 0.8355\n",
      "Epoch 21/25\n",
      "109/109 [==============================] - 60s 553ms/step - loss: 0.1717 - acc: 0.9339 - val_loss: 0.3684 - val_acc: 0.8397\n",
      "Epoch 22/25\n",
      "109/109 [==============================] - 60s 552ms/step - loss: 0.1795 - acc: 0.9300 - val_loss: 0.3416 - val_acc: 0.8534\n",
      "Epoch 23/25\n",
      "109/109 [==============================] - 60s 554ms/step - loss: 0.1642 - acc: 0.9337 - val_loss: 0.5839 - val_acc: 0.8238\n",
      "Epoch 24/25\n",
      "109/109 [==============================] - 61s 557ms/step - loss: 0.1797 - acc: 0.9290 - val_loss: 0.2883 - val_acc: 0.8954\n",
      "Epoch 25/25\n",
      "109/109 [==============================] - 60s 552ms/step - loss: 0.1646 - acc: 0.9345 - val_loss: 0.6303 - val_acc: 0.8281\n",
      "\n",
      "Fold  1\n",
      "Epoch 1/25\n",
      "109/109 [==============================] - 61s 563ms/step - loss: 0.1664 - acc: 0.9348 - val_loss: 0.6480 - val_acc: 0.8303\n",
      "Epoch 2/25\n",
      "109/109 [==============================] - 60s 551ms/step - loss: 0.1583 - acc: 0.9373 - val_loss: 0.6264 - val_acc: 0.8417\n",
      "Epoch 3/25\n",
      "109/109 [==============================] - 60s 550ms/step - loss: 0.1603 - acc: 0.9364 - val_loss: 0.5030 - val_acc: 0.8608\n",
      "Epoch 4/25\n",
      "109/109 [==============================] - 60s 551ms/step - loss: 0.1558 - acc: 0.9379 - val_loss: 0.5165 - val_acc: 0.8295\n",
      "Epoch 5/25\n",
      "109/109 [==============================] - 60s 551ms/step - loss: 0.1544 - acc: 0.9369 - val_loss: 0.4615 - val_acc: 0.8423\n",
      "Epoch 6/25\n",
      "109/109 [==============================] - 60s 551ms/step - loss: 0.1654 - acc: 0.9346 - val_loss: 0.6128 - val_acc: 0.8383\n",
      "Epoch 7/25\n",
      "109/109 [==============================] - 60s 551ms/step - loss: 0.1553 - acc: 0.9384 - val_loss: 0.7772 - val_acc: 0.8210\n",
      "Epoch 8/25\n",
      "109/109 [==============================] - 60s 553ms/step - loss: 0.1544 - acc: 0.9394 - val_loss: 0.6265 - val_acc: 0.8488\n",
      "Epoch 9/25\n",
      "109/109 [==============================] - 60s 551ms/step - loss: 0.1481 - acc: 0.9391 - val_loss: 0.8533 - val_acc: 0.8241\n",
      "Epoch 10/25\n",
      "109/109 [==============================] - 60s 550ms/step - loss: 0.1461 - acc: 0.9385 - val_loss: 0.6833 - val_acc: 0.8326\n",
      "Epoch 11/25\n",
      "109/109 [==============================] - 60s 551ms/step - loss: 0.1374 - acc: 0.9449 - val_loss: 0.7110 - val_acc: 0.8332\n",
      "Epoch 12/25\n",
      "109/109 [==============================] - 60s 551ms/step - loss: 0.1547 - acc: 0.9390 - val_loss: 0.6509 - val_acc: 0.8136\n",
      "Epoch 13/25\n",
      "109/109 [==============================] - 60s 552ms/step - loss: 0.1537 - acc: 0.9376 - val_loss: 0.9448 - val_acc: 0.7962\n",
      "Epoch 14/25\n",
      "109/109 [==============================] - 60s 552ms/step - loss: 0.1690 - acc: 0.9322 - val_loss: 0.6386 - val_acc: 0.8522\n",
      "Epoch 15/25\n",
      "109/109 [==============================] - 60s 552ms/step - loss: 0.1523 - acc: 0.9381 - val_loss: 0.8136 - val_acc: 0.8326\n",
      "Epoch 16/25\n",
      "109/109 [==============================] - 60s 551ms/step - loss: 0.1552 - acc: 0.9354 - val_loss: 0.6522 - val_acc: 0.8551\n",
      "Epoch 17/25\n",
      "109/109 [==============================] - 60s 551ms/step - loss: 0.1498 - acc: 0.9387 - val_loss: 0.7251 - val_acc: 0.8303\n",
      "Epoch 18/25\n",
      "109/109 [==============================] - 60s 553ms/step - loss: 0.1456 - acc: 0.9418 - val_loss: 1.1461 - val_acc: 0.7940\n",
      "Epoch 19/25\n",
      "109/109 [==============================] - 60s 551ms/step - loss: 0.1610 - acc: 0.9351 - val_loss: 0.7168 - val_acc: 0.8338\n",
      "Epoch 20/25\n",
      "109/109 [==============================] - 60s 550ms/step - loss: 0.1581 - acc: 0.9378 - val_loss: 1.1801 - val_acc: 0.8264\n",
      "Epoch 21/25\n",
      "109/109 [==============================] - 60s 551ms/step - loss: 0.1529 - acc: 0.9386 - val_loss: 0.6764 - val_acc: 0.8514\n",
      "Epoch 22/25\n",
      "109/109 [==============================] - 60s 550ms/step - loss: 0.1471 - acc: 0.9414 - val_loss: 0.6646 - val_acc: 0.8463\n",
      "Epoch 23/25\n",
      "109/109 [==============================] - 60s 550ms/step - loss: 0.1512 - acc: 0.9405 - val_loss: 0.7552 - val_acc: 0.8423\n",
      "Epoch 24/25\n",
      "109/109 [==============================] - 60s 552ms/step - loss: 0.1422 - acc: 0.9433 - val_loss: 2.0410 - val_acc: 0.7826\n",
      "Epoch 25/25\n",
      "109/109 [==============================] - 60s 549ms/step - loss: 0.1652 - acc: 0.9327 - val_loss: 1.4682 - val_acc: 0.7832\n",
      "\n",
      "Fold  2\n",
      "Epoch 1/25\n",
      "109/109 [==============================] - 62s 570ms/step - loss: 0.2133 - acc: 0.9208 - val_loss: 0.7905 - val_acc: 0.8056\n",
      "Epoch 2/25\n",
      "109/109 [==============================] - 60s 553ms/step - loss: 0.1838 - acc: 0.9274 - val_loss: 0.5396 - val_acc: 0.8204\n",
      "Epoch 3/25\n",
      "109/109 [==============================] - 61s 561ms/step - loss: 0.1810 - acc: 0.9293 - val_loss: 0.1353 - val_acc: 0.9480\n",
      "Epoch 4/25\n",
      "109/109 [==============================] - 60s 553ms/step - loss: 0.1756 - acc: 0.9284 - val_loss: 0.2602 - val_acc: 0.9020\n",
      "Epoch 5/25\n",
      "109/109 [==============================] - 60s 553ms/step - loss: 0.1828 - acc: 0.9262 - val_loss: 0.2791 - val_acc: 0.8744\n",
      "Epoch 6/25\n",
      "109/109 [==============================] - 60s 554ms/step - loss: 0.1702 - acc: 0.9324 - val_loss: 0.5664 - val_acc: 0.7985\n",
      "Epoch 7/25\n",
      "109/109 [==============================] - 60s 555ms/step - loss: 0.1792 - acc: 0.9278 - val_loss: 0.2969 - val_acc: 0.8653\n",
      "Epoch 8/25\n",
      "109/109 [==============================] - 60s 554ms/step - loss: 0.1860 - acc: 0.9260 - val_loss: 0.7857 - val_acc: 0.8124\n",
      "Epoch 9/25\n"
     ]
    },
    {
     "name": "stdout",
     "output_type": "stream",
     "text": [
      "109/109 [==============================] - 61s 555ms/step - loss: 0.1791 - acc: 0.9285 - val_loss: 0.7983 - val_acc: 0.8019\n",
      "Epoch 10/25\n",
      "109/109 [==============================] - 60s 553ms/step - loss: 0.1848 - acc: 0.9270 - val_loss: 0.1412 - val_acc: 0.9412\n",
      "Epoch 11/25\n",
      "109/109 [==============================] - 60s 552ms/step - loss: 0.1760 - acc: 0.9305 - val_loss: 1.1028 - val_acc: 0.7795\n",
      "Epoch 12/25\n",
      "109/109 [==============================] - 61s 555ms/step - loss: 0.1601 - acc: 0.9354 - val_loss: 0.4367 - val_acc: 0.8448\n",
      "Epoch 13/25\n",
      "109/109 [==============================] - 61s 558ms/step - loss: 0.1609 - acc: 0.9364 - val_loss: 0.7494 - val_acc: 0.8016\n",
      "Epoch 14/25\n",
      "109/109 [==============================] - 60s 554ms/step - loss: 0.1666 - acc: 0.9340 - val_loss: 0.0812 - val_acc: 0.9653\n",
      "Epoch 15/25\n",
      "109/109 [==============================] - 60s 553ms/step - loss: 0.1597 - acc: 0.9370 - val_loss: 0.8181 - val_acc: 0.8130\n",
      "Epoch 16/25\n",
      "109/109 [==============================] - 60s 554ms/step - loss: 0.1649 - acc: 0.9348 - val_loss: 0.1366 - val_acc: 0.9366\n",
      "Epoch 17/25\n",
      "109/109 [==============================] - 60s 554ms/step - loss: 0.1643 - acc: 0.9340 - val_loss: 0.6020 - val_acc: 0.8164\n",
      "Epoch 18/25\n",
      "109/109 [==============================] - 60s 555ms/step - loss: 0.1561 - acc: 0.9386 - val_loss: 0.3471 - val_acc: 0.8929\n",
      "Epoch 19/25\n",
      "109/109 [==============================] - 60s 552ms/step - loss: 0.1757 - acc: 0.9303 - val_loss: 0.2840 - val_acc: 0.9341\n",
      "Epoch 20/25\n",
      "109/109 [==============================] - 60s 554ms/step - loss: 0.1634 - acc: 0.9359 - val_loss: 0.8945 - val_acc: 0.7877\n",
      "Epoch 21/25\n",
      "109/109 [==============================] - 60s 555ms/step - loss: 0.1606 - acc: 0.9354 - val_loss: 0.2904 - val_acc: 0.8670\n",
      "Epoch 22/25\n",
      "109/109 [==============================] - 60s 553ms/step - loss: 0.1567 - acc: 0.9374 - val_loss: 0.7368 - val_acc: 0.7991\n",
      "Epoch 23/25\n",
      "109/109 [==============================] - 60s 554ms/step - loss: 0.1661 - acc: 0.9345 - val_loss: 0.5900 - val_acc: 0.8758\n",
      "Epoch 24/25\n",
      "109/109 [==============================] - 60s 553ms/step - loss: 0.1623 - acc: 0.9359 - val_loss: 0.7449 - val_acc: 0.7928\n",
      "Epoch 25/25\n",
      "109/109 [==============================] - 60s 553ms/step - loss: 0.1644 - acc: 0.9355 - val_loss: 0.5546 - val_acc: 0.7960\n",
      "\n",
      "Fold  3\n",
      "Epoch 1/25\n",
      "109/109 [==============================] - 62s 572ms/step - loss: 0.1547 - acc: 0.9408 - val_loss: 0.4919 - val_acc: 0.8465\n",
      "Epoch 2/25\n",
      "109/109 [==============================] - 60s 553ms/step - loss: 0.1466 - acc: 0.9423 - val_loss: 0.4259 - val_acc: 0.8522\n",
      "Epoch 3/25\n",
      "109/109 [==============================] - 60s 552ms/step - loss: 0.1367 - acc: 0.9469 - val_loss: 0.6513 - val_acc: 0.8349\n",
      "Epoch 4/25\n",
      "109/109 [==============================] - 60s 553ms/step - loss: 0.1449 - acc: 0.9457 - val_loss: 0.7916 - val_acc: 0.8366\n",
      "Epoch 5/25\n",
      "109/109 [==============================] - 60s 552ms/step - loss: 0.1430 - acc: 0.9448 - val_loss: 0.3243 - val_acc: 0.8664\n",
      "Epoch 6/25\n",
      "109/109 [==============================] - 60s 552ms/step - loss: 0.1547 - acc: 0.9391 - val_loss: 0.6963 - val_acc: 0.8323\n",
      "Epoch 7/25\n",
      "109/109 [==============================] - 60s 551ms/step - loss: 0.1438 - acc: 0.9452 - val_loss: 0.6026 - val_acc: 0.8397\n",
      "Epoch 8/25\n",
      "109/109 [==============================] - 60s 551ms/step - loss: 0.1325 - acc: 0.9494 - val_loss: 0.6037 - val_acc: 0.8397\n",
      "Epoch 9/25\n",
      "109/109 [==============================] - 60s 551ms/step - loss: 0.1307 - acc: 0.9500 - val_loss: 0.4626 - val_acc: 0.8568\n",
      "Epoch 10/25\n",
      "109/109 [==============================] - 60s 553ms/step - loss: 0.1207 - acc: 0.9542 - val_loss: 0.9488 - val_acc: 0.8221\n",
      "Epoch 11/25\n",
      "109/109 [==============================] - 60s 553ms/step - loss: 0.1311 - acc: 0.9497 - val_loss: 0.5395 - val_acc: 0.8508\n",
      "Epoch 12/25\n",
      "109/109 [==============================] - 60s 552ms/step - loss: 0.1488 - acc: 0.9431 - val_loss: 0.3121 - val_acc: 0.8687\n",
      "Epoch 13/25\n",
      "109/109 [==============================] - 60s 553ms/step - loss: 0.1607 - acc: 0.9371 - val_loss: 0.3503 - val_acc: 0.8673\n",
      "Epoch 14/25\n",
      "  9/109 [=>............................] - ETA: 42s - loss: 0.1222 - acc: 0.9568"
     ]
    }
   ],
   "source": [
    "j=0\n",
    "for train_index, test_index in kf.split(np_image_list):\n",
    "    print('\\nFold ',j)\n",
    "    X_train, X_test = np_image_list[train_index], np_image_list[test_index]\n",
    "    y_train, y_test = image_labels[train_index], image_labels[test_index]\n",
    "    history = model.fit_generator(\n",
    "        aug.flow(X_train, y_train, batch_size=BS),\n",
    "        validation_data=(X_test, y_test),\n",
    "        steps_per_epoch=len(X_train) // BS,\n",
    "        epochs=EPOCHS, verbose=1\n",
    "    )\n",
    "    j+=1"
   ]
  },
  {
   "cell_type": "code",
   "execution_count": 22,
   "metadata": {},
   "outputs": [
    {
     "data": {
      "image/png": "[encoded data removed]",
      "text/plain": [
       "<Figure size 432x288 with 1 Axes>"
      ]
     },
     "metadata": {
      "needs_background": "light"
     },
     "output_type": "display_data"
    },
    {
     "data": {
      "image/png": "[encoded data removed]",
      "text/plain": [
       "<Figure size 432x288 with 1 Axes>"
      ]
     },
     "metadata": {
      "needs_background": "light"
     },
     "output_type": "display_data"
    }
   ],
   "source": [
    "acc = history.history['acc']\n",
    "val_acc = history.history['val_acc']\n",
    "loss = history.history['loss']\n",
    "val_loss = history.history['val_loss']\n",
    "epochs = range(1, len(acc) + 1)\n",
    "#Train and validation accuracy\n",
    "plt.plot(epochs, acc, 'b', label='Training accurarcy')\n",
    "plt.plot(epochs, val_acc, 'r', label='Validation accurarcy')\n",
    "plt.title('Training and Validation accurarcy')\n",
    "plt.legend()\n",
    "\n",
    "plt.figure()\n",
    "#Train and validation loss\n",
    "plt.plot(epochs, loss, 'b', label='Training loss')\n",
    "plt.plot(epochs, val_loss, 'r', label='Validation loss')\n",
    "plt.title('Training and Validation loss')\n",
    "plt.legend()\n",
    "plt.show()"
   ]
  },
  {
   "cell_type": "code",
   "execution_count": 24,
   "metadata": {},
   "outputs": [
    {
     "name": "stdout",
     "output_type": "stream",
     "text": [
      "[INFO] Calculating model accuracy\n",
      "215/215 [==============================] - 1s 6ms/step\n",
      "Test Accuracy: 96.89922665440758\n"
     ]
    }
   ],
   "source": [
    "print(\"[INFO] Calculating model accuracy\")\n",
    "scores = model.evaluate(X_test, y_test)\n",
    "print(f\"Test Accuracy: {scores[1]*100}\")"
   ]
  },
  {
   "cell_type": "code",
   "execution_count": 25,
   "metadata": {},
   "outputs": [],
   "source": [
    "model.save('\"...\".h5') \n",
    "#\"...\"replace it by your name to model"
   ]
  },
  {
   "cell_type": "code",
   "execution_count": null,
   "metadata": {},
   "outputs": [],
   "source": []
  }
 ],
 "metadata": {
  "kernelspec": {
   "display_name": "Python 3",
   "language": "python",
   "name": "python3"
  },
  "language_info": {
   "codemirror_mode": {
    "name": "ipython",
    "version": 3
   },
   "file_extension": ".py",
   "mimetype": "text/x-python",
   "name": "python",
   "nbconvert_exporter": "python",
   "pygments_lexer": "ipython3",
   "version": "3.6.7"
  }
 },
 "nbformat": 4,
 "nbformat_minor": 1
}
